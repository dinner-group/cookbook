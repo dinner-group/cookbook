{
 "cells": [
  {
   "cell_type": "code",
   "execution_count": 3,
   "metadata": {},
   "outputs": [],
   "source": [
    "# Tutorial: Introduction to jax_e3nn\n",
    "\n",
    "# install jax_e3nn using pip:\n",
    "# !pip install jax_e3nn\n",
    "# !pip install jax\n",
    "# !pip install haiku\n",
    "# !pip install jraph\n",
    " \n",
    "\n",
    "#Importing the necessary modules\n",
    "import jax\n",
    "import jax.numpy as jnp\n",
    "import e3nn_jax as e3nn\n",
    "import haiku as hk"
   ]
  },
  {
   "cell_type": "markdown",
   "metadata": {},
   "source": [
    "In e3nn we have a notation to define direct sums of irreducible representations of O(3) (rotations in 3D). "
   ]
  },
  {
   "cell_type": "code",
   "execution_count": 11,
   "metadata": {},
   "outputs": [
    {
     "name": "stdout",
     "output_type": "stream",
     "text": [
      "2x0e+1x1o\n"
     ]
    }
   ],
   "source": [
    "# Define the irreps consisting of two scalars (0e) and one vector (1o)\n",
    "irreps = e3nn.Irreps(\"2x0e + 1x1o\")  # 0e stands for the even irrep L=0 and 1o stands for the odd irrep L=1\n",
    "print(irreps)"
   ]
  },
  {
   "cell_type": "code",
   "execution_count": 205,
   "metadata": {},
   "outputs": [
    {
     "name": "stdout",
     "output_type": "stream",
     "text": [
      "2x0e+1x1o\n",
      "[[1. 0. 0. 0. 0.]\n",
      " [0. 1. 2. 0. 0.]\n",
      " [0. 0. 0. 2. 0.]]\n",
      "shape: (3, 5)\n"
     ]
    }
   ],
   "source": [
    "# creat an IrrepsArray contains 3 entries, each corresponding to different values for the irreps\n",
    "x = e3nn.IrrepsArray(irreps, jnp.array(\n",
    "    [\n",
    "        [1.0, 0.0,  0.0, 0.0, 0.0],\n",
    "        [0.0, 1.0,  2.0, 0.0, 0.0],\n",
    "        [0.0, 0.0,  0.0, 2.0, 0.0],\n",
    "    ]\n",
    "))\n",
    "print(x)\n",
    "print('shape:', x.shape)"
   ]
  },
  {
   "cell_type": "code",
   "execution_count": 35,
   "metadata": {},
   "outputs": [
    {
     "name": "stdout",
     "output_type": "stream",
     "text": [
      "2x0e+1x1o [1. 0. 0. 0. 0.] \n",
      "\n",
      "2x0e\n",
      "[[1. 0.]\n",
      " [0. 1.]\n",
      " [0. 0.]] \n",
      "\n",
      "1x1o\n",
      "[[0. 0. 0.]\n",
      " [2. 0. 0.]\n",
      " [0. 2. 0.]] \n",
      "\n",
      "Error: Error in IrrepsArray.__getitem__, Can't slice with 1x2o because it doesn't appear exactly once in 2x0e+1x1o.\n"
     ]
    }
   ],
   "source": [
    "# The first index of the IrrepsArray is the batch index\n",
    "print(x[0], '\\n')\n",
    "# The second index is the index of the irreps\n",
    "print(x[:, '2x0e'], '\\n')\n",
    "# we can also directly use the index of the irreps\n",
    "print(x[:, 2:], '\\n')\n",
    "# An error is raised if the irreps is not present in the IrrepsArray\n",
    "try:\n",
    "    print(x[:, '2o'], '\\n')\n",
    "except Exception as e:\n",
    "    print('Error:', e)"
   ]
  },
  {
   "cell_type": "markdown",
   "metadata": {},
   "source": [
    "### Operations for irrepsArray"
   ]
  },
  {
   "cell_type": "code",
   "execution_count": 207,
   "metadata": {},
   "outputs": [
    {
     "name": "stdout",
     "output_type": "stream",
     "text": [
      "add two IrrepsArray\n",
      "2x0e+1x1o\n",
      "[[2. 0. 0. 0. 0.]\n",
      " [0. 2. 4. 0. 0.]\n",
      " [0. 0. 0. 4. 0.]] \n",
      "\n",
      "multiply by a scalar\n",
      "2x0e+1x1o\n",
      "[[3. 0. 0. 0. 0.]\n",
      " [0. 3. 6. 0. 0.]\n",
      " [0. 0. 0. 6. 0.]] \n",
      "\n",
      "divide by a scalar\n",
      "2x0e+1x1o\n",
      "[[0.5 0.  0.  0.  0. ]\n",
      " [0.  0.5 1.  0.  0. ]\n",
      " [0.  0.  0.  1.  0. ]] \n",
      "\n",
      "sum entries by axis 0\n",
      "1x0e+1x1o\n",
      "[[1. 0. 0. 0.]\n",
      " [1. 2. 0. 0.]\n",
      " [0. 0. 2. 0.]] \n",
      "\n",
      "sum entries by axis 1\n",
      "2x0e+1x1o [1. 1. 2. 2. 0.] \n",
      "\n",
      "concatenate two IrrepsArray\n",
      "2x0e+1x1o+2x0e+1x1o \n",
      "\n",
      "simply IrrepsArray\n",
      "4x0e+2x1o\n"
     ]
    }
   ],
   "source": [
    "# add two IrrepsArray\n",
    "print('add two IrrepsArray')\n",
    "print(x + x, '\\n')\n",
    "# multiply by a scalar\n",
    "print('multiply by a scalar')\n",
    "print(3 * x, '\\n')\n",
    "# divide by a scalar\n",
    "print('divide by a scalar')\n",
    "print(x/2, '\\n')\n",
    "# sum all the entries\n",
    "print('sum entries by axis 0')\n",
    "print(e3nn.sum(x, axis = 1), '\\n')\n",
    "print('sum entries by axis 1')\n",
    "print(e3nn.sum(x, axis = 0), '\\n')\n",
    "# cancatenate two IrrepsArray\n",
    "print('concatenate two IrrepsArray')\n",
    "z = e3nn.concatenate([x, x], axis=1)\n",
    "print(z.irreps, '\\n')\n",
    "# simplify the IrrepsArray\n",
    "print('simply IrrepsArray')\n",
    "print(z.regroup().irreps)\n"
   ]
  },
  {
   "cell_type": "markdown",
   "metadata": {},
   "source": [
    "#### Operations Not Allowed for IrrepsArray"
   ]
  },
  {
   "cell_type": "code",
   "execution_count": 67,
   "metadata": {},
   "outputs": [
    {
     "name": "stdout",
     "output_type": "stream",
     "text": [
      "IrrepsArray(2x0e+1x1o, shape=(3, 5)) + IrrepsArray(1x0o+2x0e) is not equivariant. \n",
      "\n",
      "IrrepsArray(2x0e+1x1o, shape=(3, 5)) / IrrepsArray(2x0e+1x1o) is not equivariant. \n",
      "\n",
      "IrrepsArray(2x0e+1x1o, shape=(3, 5)) * IrrepsArray(2x0e+1x1o) is only supported for scalar * irreps and irreps * scalar. To perform irreps * irreps use e3nn.elementwise_tensor_product or e3nn.tensor_product. \n",
      "\n",
      "2x0e+1x1o (3, 5)\n",
      "1x0o+2x0e (3, 3)\n",
      "4x0e+2x0o+2x1o+1x1e (3, 25)\n"
     ]
    }
   ],
   "source": [
    "# add IrrepsArray with mismatched irreps\n",
    "y = y = e3nn.IrrepsArray(\"0o + 2x0e\", jnp.array(\n",
    "    [\n",
    "        [1.5,  0.0, 1.0],\n",
    "        [0.5, -1.0, 2.0],\n",
    "        [0.5,  1.0, 1.5],\n",
    "    ]\n",
    "))\n",
    "\n",
    "try:\n",
    "    print(x + y)\n",
    "except Exception as e:\n",
    "    print(e, '\\n')\n",
    "\n",
    "# Anon-scalar division\n",
    "try:\n",
    "    print(x / x)\n",
    "except Exception as e:\n",
    "    print(e, '\\n')\n",
    "\n",
    "# multiply two IrrepsArray element-wise\n",
    "try:\n",
    "    print(x * x)\n",
    "except Exception as e:\n",
    "    print(e, '\\n')\n",
    "\n",
    "# let's try e3nn.tensor_product. \n",
    "print(x.irreps, x.shape)\n",
    "print(y.irreps, y.shape)\n",
    "print(e3nn.tensor_product(x, y).irreps, e3nn.tensor_product(x, x).shape)\n"
   ]
  },
  {
   "cell_type": "markdown",
   "metadata": {},
   "source": [
    "### Spherical Harmonics"
   ]
  },
  {
   "cell_type": "code",
   "execution_count": 113,
   "metadata": {},
   "outputs": [
    {
     "data": {
      "text/plain": [
       "1x1o+1x2e+1x3o\n",
       "[[ 1.7320508  0.         0.         0.         0.        -1.1180339\n",
       "   0.        -1.9364916 -2.09165    0.        -1.620185   0.\n",
       "   0.         0.         0.       ]\n",
       " [ 0.         1.7320508  0.         0.         0.         2.2360678\n",
       "   0.         0.         0.         0.         0.         2.645751\n",
       "   0.         0.         0.       ]\n",
       " [ 0.         0.         1.7320508  0.         0.        -1.1180339\n",
       "   0.         1.9364916  0.         0.         0.         0.\n",
       "  -1.620185   0.         2.09165  ]]"
      ]
     },
     "execution_count": 113,
     "metadata": {},
     "output_type": "execute_result"
    }
   ],
   "source": [
    "# creat a batch of vectors\n",
    "vectors = jnp.array([\n",
    "    [1.0, 0.0, 0.0],\n",
    "    [0.0, 1.0, 0.0],\n",
    "    [0.0, 0.0, 1.0],\n",
    "])\n",
    "\n",
    "vectors = e3nn.IrrepsArray(\"1o\", vectors)  # Wrap the array of vectors in an IrrepsArray\n",
    "e3nn.spherical_harmonics(\n",
    "                [l for l in range(1, 4)], # List of l values from 1 to 3\n",
    "                vectors,\n",
    "                normalize=True,)  # the input is normalized"
   ]
  },
  {
   "cell_type": "markdown",
   "metadata": {},
   "source": [
    "### A minimal example of using Haiku with e3nn"
   ]
  },
  {
   "cell_type": "code",
   "execution_count": 202,
   "metadata": {},
   "outputs": [
    {
     "name": "stdout",
     "output_type": "stream",
     "text": [
      "input irrep: 1x1o+2x0e+1x0o\n",
      "\n",
      " {'linear': {'w[0,0] 2x0e,3x0e': DeviceArray([[-1.4581939, -2.047044 , -1.4242861],\n",
      "             [ 1.1684095, -0.9758364, -1.2718494]], dtype=float32), 'w[2,1] 1x1o,1x1o': DeviceArray([[-0.58665055]], dtype=float32), 'b[0] 3x0e': DeviceArray([0., 0., 0.], dtype=float32)}}\n",
      "parameters for 0e: \n",
      " [[-1.4581939 -2.047044  -1.4242861]\n",
      " [ 1.1684095 -0.9758364 -1.2718494]]\n",
      "parameters for 1o: \n",
      " [[-0.58665055]]\n"
     ]
    }
   ],
   "source": [
    "@hk.without_apply_rng\n",
    "@hk.transform\n",
    "def model(x):\n",
    "    # Assuming \"1x0e+1x1o\" is the output irreps of the linear layer\n",
    "    linear = e3nn.haiku.Linear(irreps_out = \"3x0e+1x1o\", biases=True)\n",
    "    return e3nn.gate(linear(x))\n",
    "\n",
    "x = e3nn.IrrepsArray(\"1o + 2x0e + 1x0o\", jnp.ones(6))\n",
    "print('input irrep:', x.irreps)\n",
    "params = model.init(jax.random.PRNGKey(0), x)  # Initialize model parameters using a random key.\n",
    "print('\\n', params)\n",
    "\n",
    "print('parameters for 0e: \\n', params['linear']['w[0,0] 2x0e,3x0e']) \n",
    "print('parameters for 1o: \\n', params['linear']['w[2,1] 1x1o,1x1o'])"
   ]
  },
  {
   "cell_type": "code",
   "execution_count": 185,
   "metadata": {},
   "outputs": [
    {
     "name": "stdout",
     "output_type": "stream",
     "text": [
      "input irrep: 1x1o+2x0e+1x0o\n",
      "input irrep: 2x0e+1x1o\n"
     ]
    }
   ],
   "source": [
    "print('input irrep:', x.irreps)\n",
    "y = model.apply(params,  x)\n",
    "print('input irrep:', y.irreps) \n",
    "# the output irrep of the linear is \"3x0e + 1x1o\";\n",
    "# the last 0e scalar is used as gate to scale the 1o in gate function\n",
    "# the 1o irrep is automatically discarded in the output"
   ]
  },
  {
   "cell_type": "markdown",
   "metadata": {},
   "source": [
    "### Building a GNN with e3nn"
   ]
  },
  {
   "cell_type": "code",
   "execution_count": 256,
   "metadata": {},
   "outputs": [],
   "source": [
    "# some helper functions\n",
    "import jraph\n",
    "from matscipy.neighbours import neighbour_list\n",
    "\n",
    "cutoff = 2.0  \n",
    "\n",
    "def compute_edges(positions, cell, cutoff):\n",
    "    \"\"\"Compute edges of the graph from positions and cell.\"\"\"\n",
    "    receivers, senders, senders_unit_shifts = neighbour_list(\n",
    "        quantities=\"ijS\",\n",
    "        pbc=jnp.array([True, True, True]),\n",
    "        cell=cell,\n",
    "        positions=positions,\n",
    "        cutoff=cutoff,\n",
    "    )\n",
    "\n",
    "    num_edges = senders.shape[0]\n",
    "    assert senders.shape == (num_edges,)\n",
    "    assert receivers.shape == (num_edges,)\n",
    "    assert senders_unit_shifts.shape == (num_edges, 3)\n",
    "    return senders, receivers, senders_unit_shifts\n",
    "\n",
    "def create_graph(positions, cell, cutoff):\n",
    "    \"\"\"Create a graph from positions, cell, and energy.\"\"\"\n",
    "    senders, receivers, senders_unit_shifts = compute_edges(positions, cell, cutoff) \n",
    "    num_nodes = positions.shape[0]\n",
    "    num_edges = senders.shape[0]\n",
    "\n",
    "    graph = jraph.GraphsTuple(\n",
    "        # positions are per-node features:\n",
    "        nodes=dict(positions=positions),\n",
    "        # Unit shifts are per-edge features:\n",
    "        edges=dict(shifts=senders_unit_shifts),\n",
    "        # energy and cell are per-graph features:\n",
    "        senders=senders,\n",
    "        receivers=receivers,\n",
    "        globals=dict(cell=cell[None, :, :]),\n",
    "        n_node=jnp.array([num_nodes]),\n",
    "        n_edge=jnp.array([num_edges]),\n",
    "    )\n",
    "    return graph\n",
    "\n",
    "def get_relative_vectors(senders, receivers, n_edge, positions, cells, shifts):\n",
    "    \"\"\"Compute the relative vectors between the senders and receivers.\"\"\"\n",
    "    num_nodes = positions.shape[0]\n",
    "    num_edges = senders.shape[0]\n",
    "    num_graphs = n_edge.shape[0]\n",
    "\n",
    "    assert positions.shape == (num_nodes, 3)\n",
    "    #assert cells.shape == (num_graphs, 3, 3)\n",
    "    assert senders.shape == (num_edges,)\n",
    "    assert receivers.shape == (num_edges,)\n",
    "    assert shifts.shape == (num_edges, 3)\n",
    "\n",
    "    # We need to repeat the cells for each edge.\n",
    "    cells = jnp.repeat(cells, n_edge, axis=0, total_repeat_length=num_edges)\n",
    "\n",
    "    # Compute the two ends of each edge.\n",
    "    positions_receivers = positions[receivers]\n",
    "    positions_senders = positions[senders] + jnp.einsum(\"ei,eij->ej\", shifts, cells)\n",
    "\n",
    "    vectors = e3nn.IrrepsArray(\"1o\", positions_receivers - positions_senders)\n",
    "    return vectors\n",
    "\n"
   ]
  },
  {
   "cell_type": "code",
   "execution_count": 271,
   "metadata": {},
   "outputs": [
    {
     "name": "stdout",
     "output_type": "stream",
     "text": [
      "molecule0 has [4] nodes and [8] edges\n",
      "molecule1 has [8] nodes and [14] edges\n",
      "sender: [1 0 6 3 2 6 5 4 6 5 3 1 7 6]\n",
      "receiver: [0 1 1 2 3 3 4 5 5 6 6 6 6 7]\n"
     ]
    }
   ],
   "source": [
    "# prepare two molecules\n",
    "\n",
    "molecule0 = create_graph(\n",
    "    positions=jnp.array(\n",
    "        [\n",
    "            [-0.0, 1.44528, 0.26183],\n",
    "            [1.25165, 0.72264, 2.34632],\n",
    "            [1.25165, 0.72264, 3.90714],\n",
    "            [-0.0, 1.44528, 1.82265],\n",
    "        ]\n",
    "    ),\n",
    "    cell=jnp.eye(3)*4,\n",
    "    cutoff=cutoff,\n",
    ")\n",
    "print(f\"molecule0 has {molecule0.n_node} nodes and {molecule0.n_edge} edges\")\n",
    "\n",
    "\n",
    "molecule1 = create_graph(\n",
    "    positions=jnp.array(\n",
    "        [\n",
    "            [0.0, 0.0, 1.78037],\n",
    "            [0.89019, 0.89019, 2.67056],\n",
    "            [0.0, 1.78037, 0.0],\n",
    "            [0.89019, 2.67056, 0.89019],\n",
    "            [1.78037, 0.0, 0.0],\n",
    "            [2.67056, 0.89019, 0.89019],\n",
    "            [1.78037, 1.78037, 1.78037],\n",
    "            [2.67056, 2.67056, 2.67056],\n",
    "        ]\n",
    "    ),\n",
    "    cell=jnp.eye(3)*5,\n",
    "    cutoff=cutoff,\n",
    ")\n",
    "print(f\"molecule1 has {molecule1.n_node} nodes and {molecule1.n_edge} edges\")\n",
    "print('sender:', molecule1.senders)\n",
    "print('receiver:', molecule1.receivers)"
   ]
  },
  {
   "cell_type": "code",
   "execution_count": 272,
   "metadata": {},
   "outputs": [
    {
     "name": "stdout",
     "output_type": "stream",
     "text": [
      "dataset has [4 8] nodes and [ 8 14] edges\n",
      "GraphsTuple(nodes={'positions': (12, 3)}, edges={'shifts': (22, 3)}, receivers=(22,), senders=(22,), globals={'cell': (2, 3, 3)}, n_node=(2,), n_edge=(2,))\n"
     ]
    }
   ],
   "source": [
    "dataset = jraph.batch([molecule0, molecule1])\n",
    "print(f\"dataset has {dataset.n_node} nodes and {dataset.n_edge} edges\")\n",
    "\n",
    "# Print the shapes of the fields of the dataset.\n",
    "print(jax.tree_util.tree_map(jnp.shape, dataset))"
   ]
  },
  {
   "cell_type": "code",
   "execution_count": 296,
   "metadata": {},
   "outputs": [],
   "source": [
    "class EGNNLayer(hk.Module):\n",
    "    def __init__(\n",
    "        self,\n",
    "        avg_num_neighbors: float,\n",
    "        max_ell: int = 3,\n",
    "        output_irreps: e3nn.Irreps = e3nn.Irreps(\"0e + 1o + 2e\"),\n",
    "    ):\n",
    "        super().__init__( )\n",
    "        self.avg_num_neighbors = avg_num_neighbors\n",
    "        self.max_ell = max_ell\n",
    "        self.output_irreps = output_irreps\n",
    "\n",
    "    def __call__(\n",
    "        self,\n",
    "        vectors: e3nn.IrrepsArray,\n",
    "        node_feats: e3nn.IrrepsArray,\n",
    "        senders: jnp.ndarray,\n",
    "        receivers: jnp.ndarray,\n",
    "    ):\n",
    "        node_feats = e3nn.as_irreps_array(node_feats)\n",
    "        num_nodes = node_feats.shape[0]\n",
    "        num_edges = vectors.shape[0]\n",
    "        assert vectors.shape == (num_edges, 3)\n",
    "        assert node_feats.shape == (num_nodes, node_feats.irreps.dim)\n",
    "        assert senders.shape == (num_edges,)\n",
    "        assert receivers.shape == (num_edges,)\n",
    "\n",
    "        # we regroup the target irreps to make sure that gate activation\n",
    "        # has the same irreps as the target\n",
    "        output_irreps = e3nn.Irreps(self.output_irreps).regroup()\n",
    "\n",
    "        messages = e3nn.haiku.Linear(node_feats.irreps)(node_feats)[senders] \n",
    "        messages = e3nn.concatenate(\n",
    "            [\n",
    "                messages.filter(output_irreps + \"0e\"), # keep information of original features\n",
    "                e3nn.tensor_product(                   # compute the spherical harmonics\n",
    "                    messages,           \n",
    "                    e3nn.spherical_harmonics(\n",
    "                        [l for l in range(1, self.max_ell + 1)],\n",
    "                        vectors,\n",
    "                        normalize=True,\n",
    "                        normalization=\"component\",\n",
    "                    ),\n",
    "                    filter_ir_out=output_irreps + \"0e\", # make sure the output has the same irreps as the target\n",
    "                ),\n",
    "            ]\n",
    "        ).regroup()\n",
    "\n",
    "        assert messages.shape == (num_edges, messages.irreps.dim)\n",
    "\n",
    "        # Discard 0 length edges that come from graph padding\n",
    "        lengths = e3nn.norm(vectors).array\n",
    "        mask = jnp.where(lengths == 0.0, 0.0, 1)\n",
    "        messages = messages * mask\n",
    "        \n",
    "        # get the irreps of the messages\n",
    "        irreps = output_irreps.filter(keep=messages.irreps)\n",
    "        num_nonscalar = irreps.filter(drop=\"0e + 0o\").num_irreps # the number of non-scalar irreps\n",
    "        irreps = irreps + e3nn.Irreps(f\"{num_nonscalar}x0e\").simplify() # add scalar irreps \n",
    "\n",
    "        # Message passing\n",
    "        node_feats = e3nn.scatter_sum(messages, dst=receivers, output_size=num_nodes) #output[dst[i]] += data[i]\n",
    "        node_feats = node_feats / jnp.sqrt(self.avg_num_neighbors)\n",
    "\n",
    "        node_feats = e3nn.haiku.Linear(irreps, name=\"linear_down\")(node_feats)\n",
    "\n",
    "        node_feats = node_feats \n",
    "        assert node_feats.shape == (num_nodes, node_feats.irreps.dim)\n",
    "\n",
    "        node_feats = e3nn.gate(node_feats)\n",
    "\n",
    "        return node_feats\n",
    "        "
   ]
  },
  {
   "cell_type": "code",
   "execution_count": 298,
   "metadata": {},
   "outputs": [],
   "source": [
    "class Model(hk.Module):\n",
    "    def __init__(self, irreps_out=e3nn.Irreps(\"4x0e +4x0o + 2x1o + 2x1e\")):\n",
    "        super().__init__()\n",
    "        self.irreps_out = irreps_out\n",
    "    def __call__(self, graphs):\n",
    "        vectors = get_relative_vectors(\n",
    "            graphs.senders,\n",
    "            graphs.receivers,\n",
    "            graphs.n_edge,\n",
    "            graphs.nodes[\"positions\"],\n",
    "            graphs.globals[\"cell\"],\n",
    "            graphs.edges[\"shifts\"],\n",
    "        )\n",
    "        num_nodes = jnp.sum(graphs.n_node)\n",
    "        node_feats = e3nn.IrrepsArray(\"0e\", jnp.ones((num_nodes, 1)))\n",
    "        for _ in range(2):\n",
    "            node_feats = EGNNLayer(avg_num_neighbors=4, output_irreps=self.irreps_out)(vectors, node_feats, graphs.senders, graphs.receivers)\n",
    "        node_feats = e3nn.haiku.Linear(\"0e\")(node_feats)\n",
    "        return e3nn.scatter_sum(node_feats, nel=graphs.n_node)\n",
    "    \n",
    "def get_model(irreps_out=e3nn.Irreps(\"4x0e +4x0o + 2x1o + 2x1e\")):\n",
    "    def model(graphs):\n",
    "        return  Model(irreps_out=irreps_out)(graphs)\n",
    "    return model \n",
    "\n",
    "# Create the model and initialize its parameters.\n",
    "egnn_model = get_model()\n",
    "egnn_model = hk.without_apply_rng(hk.transform(egnn_model))\n",
    "egnn_params = egnn_model.init(jax.random.PRNGKey(0), dataset)  # Initialize model parameters using a random key.\n"
   ]
  },
  {
   "cell_type": "code",
   "execution_count": 299,
   "metadata": {},
   "outputs": [
    {
     "name": "stdout",
     "output_type": "stream",
     "text": [
      "1x0e\n",
      "[[1.6778514]\n",
      " [2.227569 ]]\n"
     ]
    }
   ],
   "source": [
    "# Apply the model to the dataset.\n",
    "model_output = egnn_model.apply(egnn_params, dataset)\n",
    "print(model_output)"
   ]
  },
  {
   "cell_type": "code",
   "execution_count": null,
   "metadata": {},
   "outputs": [],
   "source": [
    "# Test quivarient\n",
    "# Under consturction...."
   ]
  }
 ],
 "metadata": {
  "kernelspec": {
   "display_name": "CG2",
   "language": "python",
   "name": "python3"
  },
  "language_info": {
   "codemirror_mode": {
    "name": "ipython",
    "version": 3
   },
   "file_extension": ".py",
   "mimetype": "text/x-python",
   "name": "python",
   "nbconvert_exporter": "python",
   "pygments_lexer": "ipython3",
   "version": "3.9.16"
  }
 },
 "nbformat": 4,
 "nbformat_minor": 2
}
